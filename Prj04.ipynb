{
 "cells": [
  {
   "cell_type": "markdown",
   "metadata": {
    "collapsed": false
   },
   "source": [
    "# Prj04\n",
    "\n",
    "Consider the following data sets:\n",
    "\n",
    "- Today: Sep 27, 2018\n",
    "\n",
    "- Spot price: 290.68\n",
    "\n",
    "- Maturity: Dec 31, 2018\n",
    "\n",
    "- Strike: 288\n",
    "\n",
    "- rate: 0.02 (from https://www.treasury.gov/resource-center/data-chart-center/interest-rates/Pages/TextView.aspx?data=yield)\n",
    "\n",
    "- Market call price: 9.23\n",
    "\n",
    "**Todo**\n",
    "\n",
    "1. If the volatility is $30\\%$, what is the difference between BSM call price and market call price?\n",
    "2. Compute the implied volatility.\n",
    "\n",
    "\n",
    "\n",
    "**Here is my suluton to the first question :**"
   ]
  },
  {
   "cell_type": "code",
   "execution_count": 12,
   "metadata": {
    "collapsed": false
   },
   "outputs": [
   ],
   "source": [
    "import math\n",
    "\n",
    "import numpy as np\n",
    "\n",
    "import matplotlib.pyplot as plt\n",
    "\n",
    "import scipy.stats as ss\n",
    "\n",
    "\n",
    "\n",
    "# Black-Scholes-Merton d1 function\n",
    "\n",
    "def d1f(St, K, t, T, r, sigma):\n",
    "\n",
    "    d1 = (math.log(St / K) + (r + 0.5 * sigma ** 2)\n",
    "\n",
    "          * (T - t)) / (sigma * math.sqrt(T - t))\n",
    "\n",
    "    return d1\n",
    "\n",
    "\n",
    "# Calculates Black-Scholes-Merton European call option value\n",
    "\n",
    "def BSM_call_value(St, K, t, T, r, sigma):\n",
    "\n",
    "    d1 = d1f(St, K, t, T, r, sigma)\n",
    "\n",
    "    d2 = d1 - sigma * math.sqrt(T - t)\n",
    "\n",
    "    call_value = St * ss.norm.cdf(d1) - math.exp(-r * (T - t)) * K * ss.norm.cdf(d2)\n",
    "\n",
    "    return call_value"
   ]
  },
  {
   "cell_type": "code",
   "execution_count": 14,
   "metadata": {
    "collapsed": false
   },
   "outputs": [
    {
     "name": "stdout",
     "output_type": "stream",
     "text": [
      "The difference between BSM call price and market call price is 10.539937820552115\n"
     ]
    }
   ],
   "source": [
    "# Substitute the given parameters into the function\n",
    "St = 290.68\n",
    "K = 288\n",
    "r = 0.02\n",
    "sigma = 0.3\n",
    "t = 0\n",
    "Today = np.datetime64('2018-09-27')\n",
    "Maturity = np.datetime64('2018-12-31')\n",
    "T = (Maturity - Today)/np.timedelta64(1,'D')/365\n",
    "\n",
    "D = BSM_call_value(St, K, t, T, r, sigma) - 9.23\n",
    "print(\"The difference between BSM call price and market call price is {0}\".format(D))"
   ]
  },
  {
   "cell_type": "markdown",
   "metadata": {
    "collapsed": false
   },
   "source": [
    "**Here is my suluton to the second question :**"
   ]
  },
  {
   "cell_type": "code",
   "execution_count": 17,
   "metadata": {
    "collapsed": false
   },
   "outputs": [
    {
     "name": "stdout",
     "output_type": "stream",
     "text": [
      "Optimization terminated successfully.\n",
      "         Current function value: 0.000000\n",
      "         Iterations: 15\n",
      "         Function evaluations: 30\n",
      "The implied volatility is 0.11824218749999948\n"
     ]
    }
   ],
   "source": [
    "# Caculate the Implied volatility\n",
    "\n",
    "from scipy import optimize\n",
    "\n",
    "def IVolBsm(S0, K, T, r, P0):\n",
    "\n",
    "    InitVol = .3\n",
    "\n",
    "    error = lambda sigma: (BSM_call_value(S0, K, 0, T, r, sigma) - P0)**2\n",
    "\n",
    "    opt = optimize.fmin(error, InitVol);\n",
    "\n",
    "    return opt[0]\n",
    "\n",
    "iv = IVolBsm(St,K, T, r, 9.23)\n",
    "\n",
    "print(\"The implied volatility is {0}\".format(iv))"
   ]
  },
  {
   "cell_type": "code",
   "execution_count": 0,
   "metadata": {
    "collapsed": false
   },
   "outputs": [
   ],
   "source": [
   ]
  }
 ],
 "metadata": {
  "kernelspec": {
   "display_name": "Python 3 (Anaconda 5)",
   "language": "python",
   "name": "anaconda5"
  }
 },
 "nbformat": 4,
 "nbformat_minor": 0
}