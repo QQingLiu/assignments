{
 "cells": [
  {
   "cell_type": "code",
   "execution_count": 24,
   "metadata": {
    "collapsed": false
   },
   "outputs": [
    {
     "name": "stdout",
     "output_type": "stream",
     "text": [
      "There are 8134 twin primes are bigger than one thousand but smaller than one million\n"
     ]
    }
   ],
   "source": [
    "def is_prime(n):\n",
    "    if n <= 1:\n",
    "        return 0\n",
    "    if n == 2:\n",
    "        return 1\n",
    "    if n % 2 == 0:\n",
    "        return 0\n",
    "    i = 3\n",
    "    while i * i <= n:\n",
    "        if n % i == 0:\n",
    "            return 0\n",
    "        i+= 2\n",
    "    return 1\n",
    "\n",
    "\n",
    "a = 0\n",
    "for i in range(1000,1000001):\n",
    "    if is_prime(i) == 1 and is_prime(i + 2) == 1:\n",
    "        a = a + 1\n",
    "\n",
    "print('There are {0} twin primes are bigger than one thousand but smaller than one million' .format(a))"
   ]
  },
  {
   "cell_type": "code",
   "execution_count": 27,
   "metadata": {
    "collapsed": false
   },
   "outputs": [
    {
     "name": "stdout",
     "output_type": "stream",
     "text": [
      "990179\n",
      "990287\n",
      "990329\n",
      "990359\n",
      "990797\n",
      "990887\n",
      "991127\n",
      "991427\n",
      "991619\n",
      "991871\n",
      "991979\n",
      "992021\n",
      "992111\n",
      "992267\n",
      "992357\n",
      "992861\n",
      "993197\n",
      "993479\n",
      "993779\n",
      "993821\n",
      "994067\n",
      "994181\n",
      "994247\n",
      "994307\n",
      "994319\n",
      "994337\n",
      "994391\n",
      "994559\n",
      "994709\n",
      "994811\n",
      "995051\n",
      "995117\n",
      "995327\n",
      "995339\n",
      "995549\n",
      "995591\n",
      "995957\n",
      "995987\n",
      "996167\n",
      "996209\n",
      "996407\n",
      "996599\n",
      "996629\n",
      "996647\n",
      "996857\n",
      "996881\n",
      "997019\n",
      "997097\n",
      "997109\n",
      "997121\n",
      "997151\n",
      "997307\n",
      "997649\n",
      "997739\n",
      "997811\n",
      "997877\n",
      "997889\n",
      "997961\n",
      "998027\n",
      "998069\n",
      "998537\n",
      "998651\n",
      "998687\n",
      "999329\n",
      "999431\n",
      "999611\n",
      "999959\n"
     ]
    }
   ],
   "source": [
    "a = 0\n",
    "for i in range(990000,1000001):\n",
    "    if is_prime(i) == 1 and is_prime(i + 2) == 1:\n",
    "        a = a + 1\n",
    "        print (i)"
   ]
  },
  {
   "cell_type": "code",
   "execution_count": 30,
   "metadata": {
    "collapsed": false
   },
   "outputs": [
    {
     "name": "stdout",
     "output_type": "stream",
     "text": [
      "The  biggest twin prime I could find is (999959,999961)\n"
     ]
    }
   ],
   "source": [
    "print(\"The  biggest twin prime I could find is (999959,999961)\")"
   ]
  },
  {
   "cell_type": "code",
   "execution_count": 0,
   "metadata": {
    "collapsed": false
   },
   "outputs": [
   ],
   "source": [
   ]
  }
 ],
 "metadata": {
  "kernelspec": {
   "display_name": "Python 2 (SageMath)",
   "language": "python",
   "name": "python2"
  },
  "language_info": {
   "codemirror_mode": {
    "name": "ipython",
    "version": 2
   },
   "file_extension": ".py",
   "mimetype": "text/x-python",
   "name": "python",
   "nbconvert_exporter": "python",
   "pygments_lexer": "ipython2",
   "version": "2.7.15"
  }
 },
 "nbformat": 4,
 "nbformat_minor": 0
}