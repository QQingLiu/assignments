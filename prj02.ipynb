{
 "cells": [
  {
   "cell_type": "markdown",
   "metadata": {
    "collapsed": false
   },
   "source": [
    "# Prj02\n",
    "\n",
    "This is an application of BSM evaluation to Geometric asian option price\n",
    "\n",
    "Geometric asian call option with maturity T and strike K has its pay off as \n",
    "\n",
    "$$C(T) = (A(T) - K)^+,$$\n",
    "\n",
    "where $A(T)$ is geometric average of the stock price at times \n",
    "$0\\le t_1 < t_2, \\ldots, < t_n = T$, \n",
    "i.e.$$A(T) = (S(t_1)S(t_2) \\ldots S(t_n))^{1/n}.$$\n",
    "\n",
    "The call price can be thus written by\n",
    "$$C_0 = \\mathbb E [e^{-rT} (A(T) - K)^+].$$\n",
    "\n",
    "\n",
    "\n",
    "\n",
    "**Hint** \n",
    "\n",
    "Under the above BS model, one can show that the distribution of $A(T)$ is again a lognormal under EMM in the form of\n",
    "$$A_T = S_0 \\exp \\{ (\\hat r - \\frac 1 2 \\hat \\sigma^2)T + \\hat \\sigma \\sqrt T \\hat Z\\}.$$\n",
    "In the above, $\\hat Z$ is a standard normal random variable, $\\hat \\sigma$ is\n",
    "$$\\hat \\sigma = \\frac{\\sigma}{n} \\sqrt{\\frac{(n+1)(2n+1)}{6}}$$\n",
    "and $\\hat r$ is\n",
    "$$\\hat r = \\frac 1 2 \\hat \\sigma^2 + \\frac{n+1}{2n}(r - \\frac 1 2 \\sigma^2).$$\n",
    "Then, by fundamental asset pricing theory, we have GAC price by\n",
    "$$\\Pi_0^c = e^{(\\hat r - r)T} \\mathbb E [ e^{-\\hat r T} (A_T - K)^+].$$\n",
    "\n",
    "**To do**\n",
    "Use \"BSM_option_valuation\" module to find the BSM asian option value with the following parameters\n",
    "\n",
    "\n",
    "Here's my solution:\n"
   ]
  },
  {
   "cell_type": "code",
   "execution_count": 29,
   "metadata": {
    "collapsed": false
   },
   "outputs": [
   ],
   "source": [
    "import math\n",
    "\n",
    "import numpy as np\n",
    "\n",
    "import matplotlib.pyplot as plt\n",
    "\n",
    "import scipy.stats as ss\n",
    "\n",
    "\n",
    "\n",
    "# Black-Scholes-Merton d1 function\n",
    "\n",
    "def d1f(St, K, t, T, r, sigma):\n",
    "\n",
    "    d1 = (math.log(St / K) + (r + 0.5 * sigma ** 2)\n",
    "\n",
    "          * (T - t)) / (sigma * math.sqrt(T - t))\n",
    "\n",
    "    return d1\n",
    "\n",
    "\n",
    "# Calculates Black-Scholes-Merton European call option value\n",
    "\n",
    "def BSM_call_value(St, K, t, T, r, sigma):\n",
    "\n",
    "    d1 = d1f(St, K, t, T, r, sigma)\n",
    "\n",
    "    d2 = d1 - sigma * math.sqrt(T - t)\n",
    "\n",
    "    call_value = St * ss.norm.cdf(d1) - math.exp(-r * (T - t)) * K * ss.norm.cdf(d2)\n",
    "\n",
    "    return call_value"
   ]
  },
  {
   "cell_type": "code",
   "execution_count": 30,
   "metadata": {
    "collapsed": false
   },
   "outputs": [
   ],
   "source": [
    "# Calculate the price of this geometric asian call option\n",
    "\n",
    "sigma1 = sigma/n * math.sqrt((n+1) * (2*n+1)/6)\n",
    "\n",
    "r1 = np.square(sigma1) /2 + (n+1) * (r- np.square(sigma)/2)/(2*n)\n",
    "\n",
    "Call = math.exp((r1-r)*T) * BSM_call_value(S0, K, 0, T, r1, sigma1)"
   ]
  },
  {
   "cell_type": "code",
   "execution_count": 31,
   "metadata": {
    "collapsed": false
   },
   "outputs": [
   ],
   "source": [
    "# Substitute the given parameters into the function\n",
    "S0 = 100.0\n",
    "K = 110.0\n",
    "r=0.0475\n",
    "sigma = 0.20\n",
    "T = 1.\n",
    "Otype='C'\n",
    "n = 4\n",
    "t = np.linspace(0., T, n+1)[1:]"
   ]
  },
  {
   "cell_type": "code",
   "execution_count": 37,
   "metadata": {
    "collapsed": false
   },
   "outputs": [
    {
     "name": "stdout",
     "output_type": "stream",
     "text": [
      "The BSM asian option value with the given parameters is 2.7329867250697175.\n"
     ]
    }
   ],
   "source": [
    "print(\"The BSM asian option value with the given parameters is {0}.\".format(Call))\n"
   ]
  },
  {
   "cell_type": "code",
   "execution_count": 0,
   "metadata": {
    "collapsed": false
   },
   "outputs": [
   ],
   "source": [
   ]
  }
 ],
 "metadata": {
  "kernelspec": {
   "display_name": "Python 3 (Anaconda 5)",
   "language": "python",
   "name": "anaconda5"
  }
 },
 "nbformat": 4,
 "nbformat_minor": 0
}
